{
 "cells": [
  {
   "cell_type": "markdown",
   "id": "3f2dfd5e-a182-4aac-9653-ae2c022f2765",
   "metadata": {},
   "source": [
    "# Construindo um Data Lake: Entenda o Conceito e Veja na Prática"
   ]
  },
  {
   "cell_type": "markdown",
   "id": "3fd102f3",
   "metadata": {},
   "source": [
    "### Base de Dados de Clientes:\n",
    "\n",
    "+ ID do Cliente: Um identificador único para cada cliente, como \"CLNT001\", \"CLNT002\", etc.\n",
    "+ Nome do Cliente: O nome completo do cliente, por exemplo, \"Maria Silva\".\n",
    "+ Endereço de E-mail: O endereço de e-mail do cliente, como \"maria.silva@email.com\".\n",
    "+ Número de Telefone: O número de telefone do cliente, por exemplo, \"(11) 1234-5678\".\n",
    "+ Data de Cadastro: A data em que o cliente se cadastrou no site, como \"2022-05-15\".\n",
    "+ Data de nascimento: A data de nascimento do cliente. \"YYYY-MM-DD\"\n",
    "+ Sexo: Sexo do cliente. \"F, M ou O\"\n",
    "+ Endereço: Endereço do cliente. \"Rua sem número, APTo 115\"\n",
    "+ Cidade: Cidade do cliente. \"São paulo\"\n",
    "+ Estado: Estado do cliente. \"São paulo\"\n",
    "+ País: País do cliente. \"Brasil\"\n",
    "+ Categoria do Cliente: Pode ser usado para segmentar os clientes em grupos, como \"Novo Cliente\", \"Cliente Premium\", etc.\n",
    "\n",
    "\n",
    "ID do Cliente\n",
    "Nome do Cliente\n",
    "Endereço de E-mail\n",
    "Número de Telefone\n",
    "Data de Cadastro\n",
    "Data de nascimento\n",
    "Sexo\n",
    "Endereço\n",
    "Cidade\n",
    "Estado\n",
    "Categoria do Cliente\n",
    "\n",
    "\n",
    "Customer ID, Client name, Email address, Phone number, Registration date, Date of birth, Sex, Address, City, state, Customer Category\n",
    "\n",
    "\n",
    "### Base de Dados de Compras:\n",
    "\n",
    "+ ID da Compra: Um identificador único para cada compra, como \"COMP001\", \"COMP002\", etc.\n",
    "+ ID do Cliente: Uma referência ao cliente que fez a compra, como \"CLNT001\".\n",
    "+ Data da Compra: A data em que a compra foi realizada, por exemplo, \"2023-01-20\".\n",
    "+ Valor da Compra: O valor total da compra, como \"150.00\".\n",
    "+ Produtos Comprados: Uma lista de produtos comprados ou seus IDs, por exemplo, \"Produto A, Produto B, Produto C\".\n",
    "+ Método de Pagamento: O método de pagamento utilizado na compra, como \"Cartão de Crédito\".\n",
    "+ Status da Compra: O status da compra, como \"Concluída\", \"Cancelada\", etc.\n",
    "\n",
    "ID da Compra\n",
    "ID do Cliente\n",
    "Data da Compra\n",
    "Valor da Compra\n",
    "Produtos Comprados\n",
    "Método de Pagamento\n",
    "Status da Compra\n",
    "\n",
    "\n",
    "Purchase ID, Customer ID, Purchase Date, Purchase Value, Purchased Products, Payment method, Purchase Status\n",
    "\n",
    "### Base de Dados de Logs de Acesso ao Site:\n",
    "\n",
    "+ ID do Log: Um identificador único para cada registro de acesso, como \"LOG001\", \"LOG002\", etc.\n",
    "+ ID do Cliente: Uma referência ao cliente que acessou o site, como \"CLNT001\".\n",
    "+ Data e Hora do Acesso: O timestamp quando o acesso ao site ocorreu, por exemplo, \"2023-02-10 14:30:45\".\n",
    "+ Páginas Visitadas: As páginas específicas do site visitadas pelo cliente, por exemplo, \"Página Inicial\", \"Produtos\", \"Carrinho de Compras\".\n",
    "+ Dispositivo: O dispositivo usado para o acesso, como \"Desktop\", \"Celular\", \"Tablet\".\n",
    "+ Duração da Sessão: O tempo que o cliente passou no site durante a sessão, como \"30 minutos\".\n",
    "+ IP de origem: IP da origem do acesso.\n",
    "\n",
    "ID do Log\n",
    "ID do Cliente\n",
    "Data e Hora do Acesso\n",
    "Páginas Visitadas\n",
    "Dispositivo\n",
    "Duração da Sessão\n",
    "IP de origem\n",
    "\n",
    "\n",
    "Log ID, Customer ID, Access Date and Time, Pages Visited, Device, Session Duration, source IP\n",
    "\n"
   ]
  },
  {
   "cell_type": "markdown",
   "id": "514fff71-8563-457b-b7a7-79979ff00237",
   "metadata": {},
   "source": [
    "### Instalando as dependências"
   ]
  },
  {
   "cell_type": "code",
   "execution_count": 3,
   "id": "c2abc98c",
   "metadata": {},
   "outputs": [
    {
     "name": "stdout",
     "output_type": "stream",
     "text": [
      "Requirement already satisfied: jupyter==1.0.0 in /home/jupyter/python/jupyter/.venv/lib/python3.8/site-packages (from -r ../requirements.txt (line 1)) (1.0.0)\n",
      "Collecting pyspark==3.5.0\n",
      "  Downloading pyspark-3.5.0.tar.gz (316.9 MB)\n",
      "\u001b[2K     \u001b[90m━━━━━━━━━━━━━━━━━━━━━━━━━━━━━━━━━━━━━━━\u001b[0m \u001b[32m316.9/316.9 MB\u001b[0m \u001b[31m8.5 MB/s\u001b[0m eta \u001b[36m0:00:00\u001b[0m00:01\u001b[0m00:01\u001b[0m\n",
      "\u001b[?25h  Preparing metadata (setup.py) ... \u001b[?25ldone\n",
      "\u001b[?25hCollecting toml==0.10.2\n",
      "  Downloading toml-0.10.2-py2.py3-none-any.whl (16 kB)\n",
      "Requirement already satisfied: ipywidgets in /home/jupyter/python/jupyter/.venv/lib/python3.8/site-packages (from jupyter==1.0.0->-r ../requirements.txt (line 1)) (8.0.2)\n",
      "Requirement already satisfied: jupyter-console in /home/jupyter/python/jupyter/.venv/lib/python3.8/site-packages (from jupyter==1.0.0->-r ../requirements.txt (line 1)) (6.4.4)\n",
      "Requirement already satisfied: nbconvert in /home/jupyter/python/jupyter/.venv/lib/python3.8/site-packages (from jupyter==1.0.0->-r ../requirements.txt (line 1)) (7.2.1)\n",
      "Requirement already satisfied: qtconsole in /home/jupyter/python/jupyter/.venv/lib/python3.8/site-packages (from jupyter==1.0.0->-r ../requirements.txt (line 1)) (5.3.2)\n",
      "Requirement already satisfied: notebook in /home/jupyter/python/jupyter/.venv/lib/python3.8/site-packages (from jupyter==1.0.0->-r ../requirements.txt (line 1)) (6.4.12)\n",
      "Requirement already satisfied: ipykernel in /home/jupyter/python/jupyter/.venv/lib/python3.8/site-packages (from jupyter==1.0.0->-r ../requirements.txt (line 1)) (6.16.0)\n",
      "Collecting py4j==0.10.9.7\n",
      "  Downloading py4j-0.10.9.7-py2.py3-none-any.whl (200 kB)\n",
      "\u001b[2K     \u001b[90m━━━━━━━━━━━━━━━━━━━━━━━━━━━━━━━━━━━━━━\u001b[0m \u001b[32m200.5/200.5 kB\u001b[0m \u001b[31m39.4 MB/s\u001b[0m eta \u001b[36m0:00:00\u001b[0m\n",
      "\u001b[?25hRequirement already satisfied: debugpy>=1.0 in /home/jupyter/python/jupyter/.venv/lib/python3.8/site-packages (from ipykernel->jupyter==1.0.0->-r ../requirements.txt (line 1)) (1.6.3)\n",
      "Requirement already satisfied: jupyter-client>=6.1.12 in /home/jupyter/python/jupyter/.venv/lib/python3.8/site-packages (from ipykernel->jupyter==1.0.0->-r ../requirements.txt (line 1)) (7.4.2)\n",
      "Requirement already satisfied: tornado>=6.1 in /home/jupyter/python/jupyter/.venv/lib/python3.8/site-packages (from ipykernel->jupyter==1.0.0->-r ../requirements.txt (line 1)) (6.2)\n",
      "Requirement already satisfied: ipython>=7.23.1 in /home/jupyter/python/jupyter/.venv/lib/python3.8/site-packages (from ipykernel->jupyter==1.0.0->-r ../requirements.txt (line 1)) (8.5.0)\n",
      "Requirement already satisfied: pyzmq>=17 in /home/jupyter/python/jupyter/.venv/lib/python3.8/site-packages (from ipykernel->jupyter==1.0.0->-r ../requirements.txt (line 1)) (24.0.1)\n",
      "Requirement already satisfied: traitlets>=5.1.0 in /home/jupyter/python/jupyter/.venv/lib/python3.8/site-packages (from ipykernel->jupyter==1.0.0->-r ../requirements.txt (line 1)) (5.4.0)\n",
      "Requirement already satisfied: psutil in /home/jupyter/python/jupyter/.venv/lib/python3.8/site-packages (from ipykernel->jupyter==1.0.0->-r ../requirements.txt (line 1)) (5.9.2)\n",
      "Requirement already satisfied: packaging in /home/jupyter/python/jupyter/.venv/lib/python3.8/site-packages (from ipykernel->jupyter==1.0.0->-r ../requirements.txt (line 1)) (21.3)\n",
      "Requirement already satisfied: nest-asyncio in /home/jupyter/python/jupyter/.venv/lib/python3.8/site-packages (from ipykernel->jupyter==1.0.0->-r ../requirements.txt (line 1)) (1.5.6)\n",
      "Requirement already satisfied: matplotlib-inline>=0.1 in /home/jupyter/python/jupyter/.venv/lib/python3.8/site-packages (from ipykernel->jupyter==1.0.0->-r ../requirements.txt (line 1)) (0.1.6)\n",
      "Requirement already satisfied: jupyterlab-widgets~=3.0 in /home/jupyter/python/jupyter/.venv/lib/python3.8/site-packages (from ipywidgets->jupyter==1.0.0->-r ../requirements.txt (line 1)) (3.0.3)\n",
      "Requirement already satisfied: widgetsnbextension~=4.0 in /home/jupyter/python/jupyter/.venv/lib/python3.8/site-packages (from ipywidgets->jupyter==1.0.0->-r ../requirements.txt (line 1)) (4.0.3)\n",
      "Requirement already satisfied: prompt-toolkit!=3.0.0,!=3.0.1,<3.1.0,>=2.0.0 in /home/jupyter/python/jupyter/.venv/lib/python3.8/site-packages (from jupyter-console->jupyter==1.0.0->-r ../requirements.txt (line 1)) (3.0.31)\n",
      "Requirement already satisfied: pygments in /home/jupyter/python/jupyter/.venv/lib/python3.8/site-packages (from jupyter-console->jupyter==1.0.0->-r ../requirements.txt (line 1)) (2.13.0)\n",
      "Requirement already satisfied: defusedxml in /home/jupyter/python/jupyter/.venv/lib/python3.8/site-packages (from nbconvert->jupyter==1.0.0->-r ../requirements.txt (line 1)) (0.7.1)\n",
      "Requirement already satisfied: bleach in /home/jupyter/python/jupyter/.venv/lib/python3.8/site-packages (from nbconvert->jupyter==1.0.0->-r ../requirements.txt (line 1)) (5.0.1)\n",
      "Requirement already satisfied: mistune<3,>=2.0.3 in /home/jupyter/python/jupyter/.venv/lib/python3.8/site-packages (from nbconvert->jupyter==1.0.0->-r ../requirements.txt (line 1)) (2.0.4)\n",
      "Requirement already satisfied: nbformat>=5.1 in /home/jupyter/python/jupyter/.venv/lib/python3.8/site-packages (from nbconvert->jupyter==1.0.0->-r ../requirements.txt (line 1)) (5.7.0)\n",
      "Requirement already satisfied: nbclient>=0.5.0 in /home/jupyter/python/jupyter/.venv/lib/python3.8/site-packages (from nbconvert->jupyter==1.0.0->-r ../requirements.txt (line 1)) (0.7.0)\n",
      "Requirement already satisfied: beautifulsoup4 in /home/jupyter/python/jupyter/.venv/lib/python3.8/site-packages (from nbconvert->jupyter==1.0.0->-r ../requirements.txt (line 1)) (4.11.1)\n",
      "Requirement already satisfied: importlib-metadata>=3.6 in /home/jupyter/python/jupyter/.venv/lib/python3.8/site-packages (from nbconvert->jupyter==1.0.0->-r ../requirements.txt (line 1)) (5.0.0)\n",
      "Requirement already satisfied: tinycss2 in /home/jupyter/python/jupyter/.venv/lib/python3.8/site-packages (from nbconvert->jupyter==1.0.0->-r ../requirements.txt (line 1)) (1.1.1)\n",
      "Requirement already satisfied: jinja2>=3.0 in /home/jupyter/python/jupyter/.venv/lib/python3.8/site-packages (from nbconvert->jupyter==1.0.0->-r ../requirements.txt (line 1)) (3.1.2)\n",
      "Requirement already satisfied: jupyter-core>=4.7 in /home/jupyter/python/jupyter/.venv/lib/python3.8/site-packages (from nbconvert->jupyter==1.0.0->-r ../requirements.txt (line 1)) (4.11.1)\n",
      "Requirement already satisfied: jupyterlab-pygments in /home/jupyter/python/jupyter/.venv/lib/python3.8/site-packages (from nbconvert->jupyter==1.0.0->-r ../requirements.txt (line 1)) (0.2.2)\n",
      "Requirement already satisfied: markupsafe>=2.0 in /home/jupyter/python/jupyter/.venv/lib/python3.8/site-packages (from nbconvert->jupyter==1.0.0->-r ../requirements.txt (line 1)) (2.1.1)\n",
      "Requirement already satisfied: pandocfilters>=1.4.1 in /home/jupyter/python/jupyter/.venv/lib/python3.8/site-packages (from nbconvert->jupyter==1.0.0->-r ../requirements.txt (line 1)) (1.5.0)\n",
      "Requirement already satisfied: prometheus-client in /home/jupyter/python/jupyter/.venv/lib/python3.8/site-packages (from notebook->jupyter==1.0.0->-r ../requirements.txt (line 1)) (0.14.1)\n",
      "Requirement already satisfied: ipython-genutils in /home/jupyter/python/jupyter/.venv/lib/python3.8/site-packages (from notebook->jupyter==1.0.0->-r ../requirements.txt (line 1)) (0.2.0)\n",
      "Requirement already satisfied: argon2-cffi in /home/jupyter/python/jupyter/.venv/lib/python3.8/site-packages (from notebook->jupyter==1.0.0->-r ../requirements.txt (line 1)) (21.3.0)\n",
      "Requirement already satisfied: Send2Trash>=1.8.0 in /home/jupyter/python/jupyter/.venv/lib/python3.8/site-packages (from notebook->jupyter==1.0.0->-r ../requirements.txt (line 1)) (1.8.0)\n",
      "Requirement already satisfied: terminado>=0.8.3 in /home/jupyter/python/jupyter/.venv/lib/python3.8/site-packages (from notebook->jupyter==1.0.0->-r ../requirements.txt (line 1)) (0.16.0)\n",
      "Requirement already satisfied: qtpy>=2.0.1 in /home/jupyter/python/jupyter/.venv/lib/python3.8/site-packages (from qtconsole->jupyter==1.0.0->-r ../requirements.txt (line 1)) (2.2.1)\n",
      "Requirement already satisfied: zipp>=0.5 in /home/jupyter/python/jupyter/.venv/lib/python3.8/site-packages (from importlib-metadata>=3.6->nbconvert->jupyter==1.0.0->-r ../requirements.txt (line 1)) (3.9.0)\n",
      "Requirement already satisfied: jedi>=0.16 in /home/jupyter/python/jupyter/.venv/lib/python3.8/site-packages (from ipython>=7.23.1->ipykernel->jupyter==1.0.0->-r ../requirements.txt (line 1)) (0.18.1)\n",
      "Requirement already satisfied: stack-data in /home/jupyter/python/jupyter/.venv/lib/python3.8/site-packages (from ipython>=7.23.1->ipykernel->jupyter==1.0.0->-r ../requirements.txt (line 1)) (0.5.1)\n",
      "Requirement already satisfied: backcall in /home/jupyter/python/jupyter/.venv/lib/python3.8/site-packages (from ipython>=7.23.1->ipykernel->jupyter==1.0.0->-r ../requirements.txt (line 1)) (0.2.0)\n",
      "Requirement already satisfied: decorator in /home/jupyter/python/jupyter/.venv/lib/python3.8/site-packages (from ipython>=7.23.1->ipykernel->jupyter==1.0.0->-r ../requirements.txt (line 1)) (5.1.1)\n",
      "Requirement already satisfied: pexpect>4.3 in /home/jupyter/python/jupyter/.venv/lib/python3.8/site-packages (from ipython>=7.23.1->ipykernel->jupyter==1.0.0->-r ../requirements.txt (line 1)) (4.8.0)\n",
      "Requirement already satisfied: pickleshare in /home/jupyter/python/jupyter/.venv/lib/python3.8/site-packages (from ipython>=7.23.1->ipykernel->jupyter==1.0.0->-r ../requirements.txt (line 1)) (0.7.5)\n"
     ]
    },
    {
     "name": "stdout",
     "output_type": "stream",
     "text": [
      "Requirement already satisfied: entrypoints in /home/jupyter/python/jupyter/.venv/lib/python3.8/site-packages (from jupyter-client>=6.1.12->ipykernel->jupyter==1.0.0->-r ../requirements.txt (line 1)) (0.4)\n",
      "Requirement already satisfied: python-dateutil>=2.8.2 in /home/jupyter/python/jupyter/.venv/lib/python3.8/site-packages (from jupyter-client>=6.1.12->ipykernel->jupyter==1.0.0->-r ../requirements.txt (line 1)) (2.8.2)\n",
      "Requirement already satisfied: jsonschema>=2.6 in /home/jupyter/python/jupyter/.venv/lib/python3.8/site-packages (from nbformat>=5.1->nbconvert->jupyter==1.0.0->-r ../requirements.txt (line 1)) (4.16.0)\n",
      "Requirement already satisfied: fastjsonschema in /home/jupyter/python/jupyter/.venv/lib/python3.8/site-packages (from nbformat>=5.1->nbconvert->jupyter==1.0.0->-r ../requirements.txt (line 1)) (2.16.2)\n",
      "Requirement already satisfied: wcwidth in /home/jupyter/python/jupyter/.venv/lib/python3.8/site-packages (from prompt-toolkit!=3.0.0,!=3.0.1,<3.1.0,>=2.0.0->jupyter-console->jupyter==1.0.0->-r ../requirements.txt (line 1)) (0.2.5)\n",
      "Requirement already satisfied: ptyprocess in /home/jupyter/python/jupyter/.venv/lib/python3.8/site-packages (from terminado>=0.8.3->notebook->jupyter==1.0.0->-r ../requirements.txt (line 1)) (0.7.0)\n",
      "Requirement already satisfied: argon2-cffi-bindings in /home/jupyter/python/jupyter/.venv/lib/python3.8/site-packages (from argon2-cffi->notebook->jupyter==1.0.0->-r ../requirements.txt (line 1)) (21.2.0)\n",
      "Requirement already satisfied: soupsieve>1.2 in /home/jupyter/python/jupyter/.venv/lib/python3.8/site-packages (from beautifulsoup4->nbconvert->jupyter==1.0.0->-r ../requirements.txt (line 1)) (2.3.2.post1)\n",
      "Requirement already satisfied: six>=1.9.0 in /home/jupyter/python/jupyter/.venv/lib/python3.8/site-packages (from bleach->nbconvert->jupyter==1.0.0->-r ../requirements.txt (line 1)) (1.16.0)\n",
      "Requirement already satisfied: webencodings in /home/jupyter/python/jupyter/.venv/lib/python3.8/site-packages (from bleach->nbconvert->jupyter==1.0.0->-r ../requirements.txt (line 1)) (0.5.1)\n",
      "Requirement already satisfied: pyparsing!=3.0.5,>=2.0.2 in /home/jupyter/python/jupyter/.venv/lib/python3.8/site-packages (from packaging->ipykernel->jupyter==1.0.0->-r ../requirements.txt (line 1)) (3.0.9)\n",
      "Requirement already satisfied: parso<0.9.0,>=0.8.0 in /home/jupyter/python/jupyter/.venv/lib/python3.8/site-packages (from jedi>=0.16->ipython>=7.23.1->ipykernel->jupyter==1.0.0->-r ../requirements.txt (line 1)) (0.8.3)\n",
      "Requirement already satisfied: attrs>=17.4.0 in /home/jupyter/python/jupyter/.venv/lib/python3.8/site-packages (from jsonschema>=2.6->nbformat>=5.1->nbconvert->jupyter==1.0.0->-r ../requirements.txt (line 1)) (22.1.0)\n",
      "Requirement already satisfied: importlib-resources>=1.4.0 in /home/jupyter/python/jupyter/.venv/lib/python3.8/site-packages (from jsonschema>=2.6->nbformat>=5.1->nbconvert->jupyter==1.0.0->-r ../requirements.txt (line 1)) (5.10.0)\n",
      "Requirement already satisfied: pyrsistent!=0.17.0,!=0.17.1,!=0.17.2,>=0.14.0 in /home/jupyter/python/jupyter/.venv/lib/python3.8/site-packages (from jsonschema>=2.6->nbformat>=5.1->nbconvert->jupyter==1.0.0->-r ../requirements.txt (line 1)) (0.18.1)\n",
      "Requirement already satisfied: pkgutil-resolve-name>=1.3.10 in /home/jupyter/python/jupyter/.venv/lib/python3.8/site-packages (from jsonschema>=2.6->nbformat>=5.1->nbconvert->jupyter==1.0.0->-r ../requirements.txt (line 1)) (1.3.10)\n",
      "Requirement already satisfied: cffi>=1.0.1 in /home/jupyter/python/jupyter/.venv/lib/python3.8/site-packages (from argon2-cffi-bindings->argon2-cffi->notebook->jupyter==1.0.0->-r ../requirements.txt (line 1)) (1.15.1)\n",
      "Requirement already satisfied: executing in /home/jupyter/python/jupyter/.venv/lib/python3.8/site-packages (from stack-data->ipython>=7.23.1->ipykernel->jupyter==1.0.0->-r ../requirements.txt (line 1)) (1.1.1)\n",
      "Requirement already satisfied: asttokens in /home/jupyter/python/jupyter/.venv/lib/python3.8/site-packages (from stack-data->ipython>=7.23.1->ipykernel->jupyter==1.0.0->-r ../requirements.txt (line 1)) (2.0.8)\n",
      "Requirement already satisfied: pure-eval in /home/jupyter/python/jupyter/.venv/lib/python3.8/site-packages (from stack-data->ipython>=7.23.1->ipykernel->jupyter==1.0.0->-r ../requirements.txt (line 1)) (0.2.2)\n",
      "Requirement already satisfied: pycparser in /home/jupyter/python/jupyter/.venv/lib/python3.8/site-packages (from cffi>=1.0.1->argon2-cffi-bindings->argon2-cffi->notebook->jupyter==1.0.0->-r ../requirements.txt (line 1)) (2.21)\n",
      "Using legacy 'setup.py install' for pyspark, since package 'wheel' is not installed.\n",
      "Installing collected packages: py4j, toml, pyspark\n",
      "  Running setup.py install for pyspark ... \u001b[?25ldone\n",
      "\u001b[?25hSuccessfully installed py4j-0.10.9.7 pyspark-3.5.0 toml-0.10.2\n",
      "\n",
      "\u001b[1m[\u001b[0m\u001b[34;49mnotice\u001b[0m\u001b[1;39;49m]\u001b[0m\u001b[39;49m A new release of pip available: \u001b[0m\u001b[31;49m22.2.2\u001b[0m\u001b[39;49m -> \u001b[0m\u001b[32;49m23.3.1\u001b[0m\n",
      "\u001b[1m[\u001b[0m\u001b[34;49mnotice\u001b[0m\u001b[1;39;49m]\u001b[0m\u001b[39;49m To update, run: \u001b[0m\u001b[32;49mpip install --upgrade pip\u001b[0m\n"
     ]
    }
   ],
   "source": [
    "! pip install -r ../requirements.txt"
   ]
  },
  {
   "cell_type": "markdown",
   "id": "1c7af90b-a182-4622-9304-39b38062066d",
   "metadata": {},
   "source": [
    "### Configurando as credenciais do projeto"
   ]
  },
  {
   "cell_type": "code",
   "execution_count": 4,
   "id": "a55efd00-ed44-4690-a0a5-c0c26aa00b91",
   "metadata": {},
   "outputs": [
    {
     "name": "stdout",
     "output_type": "stream",
     "text": [
      "value1 \n",
      " value2999\n"
     ]
    }
   ],
   "source": [
    "from toml import load\n",
    "\n",
    "with open(\"credentials.toml\", \"r\") as toml_file:\n",
    "    credentials = load(toml_file)\n",
    "\n",
    "user = credentials.get(\"credentials1\").get(\"key1\")\n",
    "password = credentials.get(\"credentials1\").get(\"key2\")\n",
    "print(user, \"\\n\", password)"
   ]
  },
  {
   "cell_type": "code",
   "execution_count": null,
   "id": "4ac4df89-6a81-4500-9584-a3b2304ac1bc",
   "metadata": {},
   "outputs": [],
   "source": []
  }
 ],
 "metadata": {
  "kernelspec": {
   "display_name": "Python 3 (ipykernel)",
   "language": "python",
   "name": "python3"
  },
  "language_info": {
   "codemirror_mode": {
    "name": "ipython",
    "version": 3
   },
   "file_extension": ".py",
   "mimetype": "text/x-python",
   "name": "python",
   "nbconvert_exporter": "python",
   "pygments_lexer": "ipython3",
   "version": "3.8.10"
  }
 },
 "nbformat": 4,
 "nbformat_minor": 5
}
