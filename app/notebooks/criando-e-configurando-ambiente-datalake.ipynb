{
 "cells": [
  {
   "cell_type": "markdown",
   "id": "3f2dfd5e-a182-4aac-9653-ae2c022f2765",
   "metadata": {},
   "source": [
    "# Construindo um Data Lake: Entenda o Conceito e Veja na Prática"
   ]
  },
  {
   "cell_type": "markdown",
   "id": "1c7af90b-a182-4622-9304-39b38062066d",
   "metadata": {},
   "source": [
    "### Configurando as credenciais do projeto"
   ]
  },
  {
   "cell_type": "code",
   "execution_count": 34,
   "id": "a55efd00-ed44-4690-a0a5-c0c26aa00b91",
   "metadata": {},
   "outputs": [
    {
     "name": "stdout",
     "output_type": "stream",
     "text": [
      "1.1.1.1 \n",
      " value2\n"
     ]
    }
   ],
   "source": [
    "from toml import load\n",
    "\n",
    "with open(\"credentials.toml\", \"r\") as toml_file:\n",
    "    credentials = load(toml_file)\n",
    "\n",
    "user = credentials.get(\"credentials1\").get(\"key1\")\n",
    "password = credentials.get(\"credentials1\").get(\"key2\")\n",
    "print(user, \"\\n\", password)"
   ]
  },
  {
   "cell_type": "code",
   "execution_count": null,
   "id": "ea4ba659-fa4a-427b-a1dc-9cdce13bca02",
   "metadata": {},
   "outputs": [],
   "source": []
  }
 ],
 "metadata": {
  "kernelspec": {
   "display_name": "Python 3 (ipykernel)",
   "language": "python",
   "name": "python3"
  },
  "language_info": {
   "codemirror_mode": {
    "name": "ipython",
    "version": 3
   },
   "file_extension": ".py",
   "mimetype": "text/x-python",
   "name": "python",
   "nbconvert_exporter": "python",
   "pygments_lexer": "ipython3",
   "version": "3.8.10"
  }
 },
 "nbformat": 4,
 "nbformat_minor": 5
}
